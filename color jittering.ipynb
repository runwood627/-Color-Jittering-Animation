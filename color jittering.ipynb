{
 "cells": [
  {
   "cell_type": "markdown",
   "id": "8d286d99",
   "metadata": {},
   "source": [
    "# Homework Assignment: Develop Your Own Color Jittering Animation"
   ]
  },
  {
   "cell_type": "markdown",
   "id": "c93fcd7d",
   "metadata": {},
   "source": [
    "<a id=toc0></a>**content**\n",
    "\n",
    "- [1. Library imports](#toc1)     \n",
    "- [2. Color and animation parameters](#toc2)    \n",
    "- [3. Create_checkerboard function  ](#toc3)     \n",
    "- [4. Animation setup (figure, initial plot, update function)  ](#toc4)      \n",
    "- [5. Display the animation with HTML(animation.to_html5_video())](#toc5)        \n",
    "- [6. Written comments/analysis](#toc6)"
   ]
  },
  {
   "cell_type": "markdown",
   "id": "73b75a56",
   "metadata": {},
   "source": [
    "# <a id=toc1></a>[Library imports](#toc0)"
   ]
  },
  {
   "cell_type": "code",
   "execution_count": null,
   "id": "42884993",
   "metadata": {},
   "outputs": [],
   "source": [
    "import numpy as np\n",
    "import matplotlib.pyplot\n",
    "from matplotlib.animation import FuncAnimation \n",
    "from  IPython.display import HTML"
   ]
  },
  {
   "cell_type": "markdown",
   "id": "0cd527ae",
   "metadata": {},
   "source": [
    "# <a id=toc2></a>[Color and animation parameters](#toc0_)"
   ]
  },
  {
   "cell_type": "code",
   "execution_count": null,
   "id": "27fe2bdd",
   "metadata": {},
   "outputs": [],
   "source": [
    "img=np.ones((256,256,3),dtype=np.uint8)*255  #define the image"
   ]
  },
  {
   "cell_type": "markdown",
   "id": "ea6b1430",
   "metadata": {},
   "source": [
    "# <a id=toc3></a>[Create_checkerboard function](#toc0)"
   ]
  },
  {
   "cell_type": "code",
   "execution_count": null,
   "id": "fad433eb",
   "metadata": {},
   "outputs": [
    {
     "ename": "SyntaxError",
     "evalue": "incomplete input (3231889373.py, line 4)",
     "output_type": "error",
     "traceback": [
      "  \u001b[36mCell\u001b[39m\u001b[36m \u001b[39m\u001b[32mIn[2]\u001b[39m\u001b[32m, line 4\u001b[39m\n\u001b[31m    \u001b[39m\u001b[31mfor j in range(512):\u001b[39m\n                        ^\n\u001b[31mSyntaxError\u001b[39m\u001b[31m:\u001b[39m incomplete input\n"
     ]
    }
   ],
   "source": [
    "def create_checkboard(img,img_dimension):\n",
    "    '''Returns a `NumPy` array  where squares alternate between the two colors.'''\n",
    "    for i in range(img.size()):\n",
    "        for j in range(img.size()):\n",
    "            \n"
   ]
  }
 ],
 "metadata": {
  "kernelspec": {
   "display_name": "Python 3",
   "language": "python",
   "name": "python3"
  },
  "language_info": {
   "codemirror_mode": {
    "name": "ipython",
    "version": 3
   },
   "file_extension": ".py",
   "mimetype": "text/x-python",
   "name": "python",
   "nbconvert_exporter": "python",
   "pygments_lexer": "ipython3",
   "version": "3.11.9"
  }
 },
 "nbformat": 4,
 "nbformat_minor": 5
}
