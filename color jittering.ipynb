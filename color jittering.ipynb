{
 "cells": [
  {
   "cell_type": "markdown",
   "id": "8d286d99",
   "metadata": {},
   "source": [
    "# Develop Color Jittering Animation"
   ]
  },
  {
   "cell_type": "markdown",
   "id": "c93fcd7d",
   "metadata": {},
   "source": [
    "<a id=toc0></a>**content**\n",
    "\n",
    "- [1. Library imports](#toc1)     \n",
    "- [2. Color and animation parameters](#toc2)    \n",
    "- [3. Create_checkerboard function  ](#toc3)     \n",
    "- [4. Animation setup   ](#toc4)      \n",
    "- [5. Display the animation with HTML(animation.to_html5_video())](#toc5)        \n",
    "- [6. Written comments/analysis](#toc6)"
   ]
  },
  {
   "cell_type": "markdown",
   "id": "73b75a56",
   "metadata": {},
   "source": [
    "# <a id=toc1></a>[Library imports](#toc0)"
   ]
  },
  {
   "cell_type": "code",
   "execution_count": null,
   "id": "42884993",
   "metadata": {},
   "outputs": [],
   "source": [
    "%matplotlib widget  \n",
    "import numpy as np\n",
    "import matplotlib.pyplot as plt\n",
    "from matplotlib.animation import FuncAnimation \n",
    "from  IPython.display import HTML"
   ]
  },
  {
   "cell_type": "markdown",
   "id": "0cd527ae",
   "metadata": {},
   "source": [
    "# <a id=toc2></a>[Color and animation parameters](#toc0)"
   ]
  },
  {
   "cell_type": "code",
   "execution_count": null,
   "id": "27fe2bdd",
   "metadata": {},
   "outputs": [],
   "source": [
    "img=np.zeros((1024,1024,3),dtype=np.uint8) #define the image"
   ]
  },
  {
   "cell_type": "markdown",
   "id": "ea6b1430",
   "metadata": {},
   "source": [
    "# <a id=toc3></a>[Create_checkerboard function](#toc0)"
   ]
  },
  {
   "cell_type": "code",
   "execution_count": null,
   "id": "fad433eb",
   "metadata": {},
   "outputs": [],
   "source": [
    "def create_checkboard(img,img_size):\n",
    "    '''Returns a `NumPy` array  where squares alternate between the two colors.'''\n",
    "    change_img=img.copy()\n",
    "    for i in range(len(img)):\n",
    "        for j in range(len(img)):\n",
    "            divide=len(img)/img_size\n",
    "            change_i=i//divide\n",
    "            change_j=j//divide\n",
    "            change_img[i][j][0]=255 if (change_i+change_j)%2==0 else 0\n",
    "            change_img[i][j][1]=255 if (change_i+change_j)%2==1 else 0 #fill with red or green\n",
    "    return change_img\n",
    "            \n"
   ]
  },
  {
   "cell_type": "markdown",
   "id": "a1a53a8f",
   "metadata": {},
   "source": [
    "# <a id=toc4></a>[Animation setup ](#toc0)"
   ]
  },
  {
   "cell_type": "code",
   "execution_count": null,
   "id": "734c74a1",
   "metadata": {},
   "outputs": [],
   "source": [
    "fig,axes=plt.subplots(1,2,figsize=(12,8))\n",
    "grid_size=[2,4,8,16,32,64,128,256,512,1024]\n",
    "img_plot=axes[0].imshow(create_checkboard(img,grid_size[0]))\n",
    "axes[0].axis('off')\n",
    "axes[0].set_title(f'{grid_size[0]}×{grid_size[0]}') #initialize animation\n",
    "color_panel=np.zeros((360,360,3),dtype=np.uint8)\n",
    "color_panel[:,:120]=[255,0,0]\n",
    "color_panel[:,120:240]=[0,255,0]\n",
    "color_panel[:,240:360]=[122.5,122.5,0]\n",
    "axes[1].imshow(color_panel)#reference color panel\n",
    "axes[1].set_title(\"Color_panel(base color:red && green;predicted color:yellow)\")\n",
    "def update(frames):\n",
    "    '''Update with frames'''\n",
    "    img_plot.set_array(create_checkboard(img,grid_size[frames]))\n",
    "    axes[0].set_title(f'{grid_size[frames]}×{grid_size[frames]}')\n",
    "    axes[0].axis('off')\n",
    "    return img_plot\n",
    "\n",
    "ani= FuncAnimation(\n",
    "    fig,          \n",
    "    func=update,        \n",
    "    frames=10, \n",
    "    interval=1000, \n",
    "    blit=False,\n",
    "    repeat=True,\n",
    ")\n",
    "plt.show()\n"
   ]
  },
  {
   "cell_type": "markdown",
   "id": "75686d52",
   "metadata": {},
   "source": [
    "# <a id=toc5></a>[Display the animation with HTML(animation.to_html5_video()) ](#toc0)"
   ]
  },
  {
   "cell_type": "code",
   "execution_count": null,
   "id": "8566042c",
   "metadata": {},
   "outputs": [],
   "source": [
    "HTML(ani.to_html5_video())"
   ]
  },
  {
   "cell_type": "markdown",
   "id": "298873b7",
   "metadata": {},
   "source": [
    "# <a id=toc6></a>[Written comments/analysis](#toc0)"
   ]
  },
  {
   "cell_type": "markdown",
   "id": "73a6a8fa",
   "metadata": {},
   "source": [
    "- Why  I choose my two base colors.      \n",
    "--Because the RGB channel of red and green is **basic** and **simple** enough.     \n",
    "- How the checkerboard function avoids black edges.    \n",
    "--Each time I **divided the img array into several areas** according to the grid_size. The method of division is through **performing integer division of the first two dimensions of each pixel with the width of each region, respectively**.Then I sum the two transformed dimensions. **If the sum is even, I set the color to green; if the sum is odd, I set the color to red.** Therefore I fill all edges and avoid black edges.\n",
    "- At what grid size the colors first appear blended to your eye.  \n",
    "-- **256×256**"
   ]
  }
 ],
 "metadata": {
  "kernelspec": {
   "display_name": "Python 3",
   "language": "python",
   "name": "python3"
  },
  "language_info": {
   "codemirror_mode": {
    "name": "ipython",
    "version": 3
   },
   "file_extension": ".py",
   "mimetype": "text/x-python",
   "name": "python",
   "nbconvert_exporter": "python",
   "pygments_lexer": "ipython3",
   "version": "3.11.9"
  }
 },
 "nbformat": 4,
 "nbformat_minor": 5
}
